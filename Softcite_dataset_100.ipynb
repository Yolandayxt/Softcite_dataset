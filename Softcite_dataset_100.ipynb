{
 "cells": [
  {
   "cell_type": "code",
   "execution_count": 1,
   "id": "07e8709f",
   "metadata": {},
   "outputs": [],
   "source": [
    "import xml.etree.ElementTree as ET\n",
    "tree = ET.parse('/Users/xiaotianyu/Downloads/softcite-dataset-1.0/softcite_corpus-full.tei.xml')\n",
    "root = tree.getroot()"
   ]
  },
  {
   "cell_type": "code",
   "execution_count": 2,
   "id": "567fb614",
   "metadata": {},
   "outputs": [
    {
     "name": "stdout",
     "output_type": "stream",
     "text": [
      "Requirement already satisfied: lxml in ./opt/anaconda3/lib/python3.8/site-packages (4.6.3)\n",
      "Note: you may need to restart the kernel to use updated packages.\n"
     ]
    }
   ],
   "source": [
    "pip install lxml"
   ]
  },
  {
   "cell_type": "code",
   "execution_count": 3,
   "id": "56f2f927",
   "metadata": {},
   "outputs": [
    {
     "name": "stdout",
     "output_type": "stream",
     "text": [
      "Requirement already satisfied: notebook in ./opt/anaconda3/lib/python3.8/site-packages (6.4.4)\n",
      "Requirement already satisfied: traitlets>=4.2.1 in ./opt/anaconda3/lib/python3.8/site-packages (from notebook) (5.0.5)\n",
      "Requirement already satisfied: tornado>=6.1 in ./opt/anaconda3/lib/python3.8/site-packages (from notebook) (6.1)\n",
      "Requirement already satisfied: ipykernel in ./opt/anaconda3/lib/python3.8/site-packages (from notebook) (5.3.4)\n",
      "Requirement already satisfied: Send2Trash>=1.5.0 in ./opt/anaconda3/lib/python3.8/site-packages (from notebook) (1.5.0)\n",
      "Requirement already satisfied: argon2-cffi in ./opt/anaconda3/lib/python3.8/site-packages (from notebook) (20.1.0)\n",
      "Requirement already satisfied: pyzmq>=17 in ./opt/anaconda3/lib/python3.8/site-packages (from notebook) (20.0.0)\n",
      "Requirement already satisfied: jupyter-client>=5.3.4 in ./opt/anaconda3/lib/python3.8/site-packages (from notebook) (6.1.12)\n",
      "Requirement already satisfied: jupyter-core>=4.6.1 in ./opt/anaconda3/lib/python3.8/site-packages (from notebook) (4.7.1)\n",
      "Requirement already satisfied: nbformat in ./opt/anaconda3/lib/python3.8/site-packages (from notebook) (5.1.3)\n",
      "Requirement already satisfied: prometheus-client in ./opt/anaconda3/lib/python3.8/site-packages (from notebook) (0.10.1)\n",
      "Requirement already satisfied: nbconvert in ./opt/anaconda3/lib/python3.8/site-packages (from notebook) (6.0.7)\n",
      "Requirement already satisfied: ipython-genutils in ./opt/anaconda3/lib/python3.8/site-packages (from notebook) (0.2.0)\n",
      "Requirement already satisfied: jinja2 in ./opt/anaconda3/lib/python3.8/site-packages (from notebook) (2.11.3)\n",
      "Requirement already satisfied: terminado>=0.8.3 in ./opt/anaconda3/lib/python3.8/site-packages (from notebook) (0.9.4)\n",
      "Requirement already satisfied: python-dateutil>=2.1 in ./opt/anaconda3/lib/python3.8/site-packages (from jupyter-client>=5.3.4->notebook) (2.8.1)\n",
      "Requirement already satisfied: six>=1.5 in ./opt/anaconda3/lib/python3.8/site-packages (from python-dateutil>=2.1->jupyter-client>=5.3.4->notebook) (1.15.0)\n",
      "Requirement already satisfied: ptyprocess in ./opt/anaconda3/lib/python3.8/site-packages (from terminado>=0.8.3->notebook) (0.7.0)\n",
      "Requirement already satisfied: cffi>=1.0.0 in ./opt/anaconda3/lib/python3.8/site-packages (from argon2-cffi->notebook) (1.14.5)\n",
      "Requirement already satisfied: pycparser in ./opt/anaconda3/lib/python3.8/site-packages (from cffi>=1.0.0->argon2-cffi->notebook) (2.20)\n",
      "Requirement already satisfied: ipython>=5.0.0 in ./opt/anaconda3/lib/python3.8/site-packages (from ipykernel->notebook) (7.22.0)\n",
      "Requirement already satisfied: appnope in ./opt/anaconda3/lib/python3.8/site-packages (from ipykernel->notebook) (0.1.2)\n",
      "Requirement already satisfied: setuptools>=18.5 in ./opt/anaconda3/lib/python3.8/site-packages (from ipython>=5.0.0->ipykernel->notebook) (52.0.0.post20210125)\n",
      "Requirement already satisfied: prompt-toolkit!=3.0.0,!=3.0.1,<3.1.0,>=2.0.0 in ./opt/anaconda3/lib/python3.8/site-packages (from ipython>=5.0.0->ipykernel->notebook) (3.0.17)\n",
      "Requirement already satisfied: backcall in ./opt/anaconda3/lib/python3.8/site-packages (from ipython>=5.0.0->ipykernel->notebook) (0.2.0)\n",
      "Requirement already satisfied: pexpect>4.3 in ./opt/anaconda3/lib/python3.8/site-packages (from ipython>=5.0.0->ipykernel->notebook) (4.8.0)\n",
      "Requirement already satisfied: pickleshare in ./opt/anaconda3/lib/python3.8/site-packages (from ipython>=5.0.0->ipykernel->notebook) (0.7.5)\n",
      "Requirement already satisfied: pygments in ./opt/anaconda3/lib/python3.8/site-packages (from ipython>=5.0.0->ipykernel->notebook) (2.8.1)\n",
      "Requirement already satisfied: jedi>=0.16 in ./opt/anaconda3/lib/python3.8/site-packages (from ipython>=5.0.0->ipykernel->notebook) (0.17.2)\n",
      "Requirement already satisfied: decorator in ./opt/anaconda3/lib/python3.8/site-packages (from ipython>=5.0.0->ipykernel->notebook) (5.0.6)\n",
      "Requirement already satisfied: parso<0.8.0,>=0.7.0 in ./opt/anaconda3/lib/python3.8/site-packages (from jedi>=0.16->ipython>=5.0.0->ipykernel->notebook) (0.7.0)\n",
      "Requirement already satisfied: wcwidth in ./opt/anaconda3/lib/python3.8/site-packages (from prompt-toolkit!=3.0.0,!=3.0.1,<3.1.0,>=2.0.0->ipython>=5.0.0->ipykernel->notebook) (0.2.5)\n",
      "Requirement already satisfied: MarkupSafe>=0.23 in ./opt/anaconda3/lib/python3.8/site-packages (from jinja2->notebook) (1.1.1)\n",
      "Requirement already satisfied: pandocfilters>=1.4.1 in ./opt/anaconda3/lib/python3.8/site-packages (from nbconvert->notebook) (1.4.3)\n",
      "Requirement already satisfied: nbclient<0.6.0,>=0.5.0 in ./opt/anaconda3/lib/python3.8/site-packages (from nbconvert->notebook) (0.5.3)\n",
      "Requirement already satisfied: testpath in ./opt/anaconda3/lib/python3.8/site-packages (from nbconvert->notebook) (0.4.4)\n",
      "Requirement already satisfied: jupyterlab-pygments in ./opt/anaconda3/lib/python3.8/site-packages (from nbconvert->notebook) (0.1.2)\n",
      "Requirement already satisfied: bleach in ./opt/anaconda3/lib/python3.8/site-packages (from nbconvert->notebook) (3.3.0)\n",
      "Requirement already satisfied: entrypoints>=0.2.2 in ./opt/anaconda3/lib/python3.8/site-packages (from nbconvert->notebook) (0.3)\n",
      "Requirement already satisfied: defusedxml in ./opt/anaconda3/lib/python3.8/site-packages (from nbconvert->notebook) (0.7.1)\n",
      "Requirement already satisfied: mistune<2,>=0.8.1 in ./opt/anaconda3/lib/python3.8/site-packages (from nbconvert->notebook) (0.8.4)\n",
      "Requirement already satisfied: nest-asyncio in ./opt/anaconda3/lib/python3.8/site-packages (from nbclient<0.6.0,>=0.5.0->nbconvert->notebook) (1.5.1)\n",
      "Requirement already satisfied: async-generator in ./opt/anaconda3/lib/python3.8/site-packages (from nbclient<0.6.0,>=0.5.0->nbconvert->notebook) (1.10)\n",
      "Requirement already satisfied: jsonschema!=2.5.0,>=2.4 in ./opt/anaconda3/lib/python3.8/site-packages (from nbformat->notebook) (3.2.0)\n",
      "Requirement already satisfied: attrs>=17.4.0 in ./opt/anaconda3/lib/python3.8/site-packages (from jsonschema!=2.5.0,>=2.4->nbformat->notebook) (20.3.0)\n",
      "Requirement already satisfied: pyrsistent>=0.14.0 in ./opt/anaconda3/lib/python3.8/site-packages (from jsonschema!=2.5.0,>=2.4->nbformat->notebook) (0.17.3)\n",
      "Requirement already satisfied: webencodings in ./opt/anaconda3/lib/python3.8/site-packages (from bleach->nbconvert->notebook) (0.5.1)\n",
      "Requirement already satisfied: packaging in ./opt/anaconda3/lib/python3.8/site-packages (from bleach->nbconvert->notebook) (20.9)\n",
      "Requirement already satisfied: pyparsing>=2.0.2 in ./opt/anaconda3/lib/python3.8/site-packages (from packaging->bleach->nbconvert->notebook) (2.4.7)\n",
      "Note: you may need to restart the kernel to use updated packages.\n"
     ]
    }
   ],
   "source": [
    "pip install notebook --upgrade"
   ]
  },
  {
   "cell_type": "code",
   "execution_count": 4,
   "id": "7e24a45f",
   "metadata": {},
   "outputs": [
    {
     "name": "stdout",
     "output_type": "stream",
     "text": [
      "Requirement already satisfied: beautifulsoup4 in ./opt/anaconda3/lib/python3.8/site-packages (4.9.3)\n",
      "Requirement already satisfied: soupsieve>1.2 in ./opt/anaconda3/lib/python3.8/site-packages (from beautifulsoup4) (2.2.1)\n",
      "Note: you may need to restart the kernel to use updated packages.\n"
     ]
    }
   ],
   "source": [
    "pip install beautifulsoup4"
   ]
  },
  {
   "cell_type": "code",
   "execution_count": 5,
   "id": "fefdee1e",
   "metadata": {},
   "outputs": [],
   "source": [
    "from bs4 import BeautifulSoup"
   ]
  },
  {
   "cell_type": "code",
   "execution_count": 6,
   "id": "230cdaf9",
   "metadata": {},
   "outputs": [],
   "source": [
    "#Open the dataset \n",
    "with open('/Users/xiaotianyu/Downloads/softcite-dataset-1.0/softcite_corpus-full.tei.xml', 'r') as f:\n",
    "    data = f.read()"
   ]
  },
  {
   "cell_type": "code",
   "execution_count": 7,
   "id": "b86561b7",
   "metadata": {},
   "outputs": [
    {
     "data": {
      "text/plain": [
       "<xml.etree.ElementTree.ElementTree at 0x7fe9c15a9550>"
      ]
     },
     "execution_count": 7,
     "metadata": {},
     "output_type": "execute_result"
    }
   ],
   "source": [
    "tree"
   ]
  },
  {
   "cell_type": "code",
   "execution_count": 8,
   "id": "45d06d1d",
   "metadata": {},
   "outputs": [],
   "source": [
    "softcite = BeautifulSoup(data, \"xml\")"
   ]
  },
  {
   "cell_type": "code",
   "execution_count": 9,
   "id": "cd79491c",
   "metadata": {},
   "outputs": [
    {
     "data": {
      "text/plain": [
       "'{http://www.tei-c.org/ns/1.0}teiCorpus'"
      ]
     },
     "execution_count": 9,
     "metadata": {},
     "output_type": "execute_result"
    }
   ],
   "source": [
    "#Check root tag\n",
    "root.tag"
   ]
  },
  {
   "cell_type": "code",
   "execution_count": 10,
   "id": "cf6cb3e1",
   "metadata": {},
   "outputs": [
    {
     "data": {
      "text/plain": [
       "{'version': '4.0.0'}"
      ]
     },
     "execution_count": 10,
     "metadata": {},
     "output_type": "execute_result"
    }
   ],
   "source": [
    "#Check root attribution\n",
    "root.attrib"
   ]
  },
  {
   "cell_type": "code",
   "execution_count": 11,
   "id": "f7c26f87",
   "metadata": {},
   "outputs": [
    {
     "name": "stdout",
     "output_type": "stream",
     "text": [
      "teiHeader {}\n",
      "{http://www.tei-c.org/ns/1.0}TEI {'subtype': 'pmc', 'type': 'article'}\n",
      "{http://www.tei-c.org/ns/1.0}TEI {'subtype': 'pmc', 'type': 'article'}\n",
      "{http://www.tei-c.org/ns/1.0}TEI {'subtype': 'pmc', 'type': 'article'}\n",
      "{http://www.tei-c.org/ns/1.0}TEI {'subtype': 'pmc', 'type': 'article'}\n",
      "{http://www.tei-c.org/ns/1.0}TEI {'subtype': 'pmc', 'type': 'article'}\n",
      "{http://www.tei-c.org/ns/1.0}TEI {'subtype': 'pmc', 'type': 'article'}\n",
      "{http://www.tei-c.org/ns/1.0}TEI {'subtype': 'pmc', 'type': 'article'}\n",
      "{http://www.tei-c.org/ns/1.0}TEI {'subtype': 'pmc', 'type': 'article'}\n",
      "{http://www.tei-c.org/ns/1.0}TEI {'subtype': 'pmc', 'type': 'article'}\n",
      "{http://www.tei-c.org/ns/1.0}TEI {'subtype': 'pmc', 'type': 'article'}\n",
      "{http://www.tei-c.org/ns/1.0}TEI {'subtype': 'pmc', 'type': 'article'}\n",
      "{http://www.tei-c.org/ns/1.0}TEI {'subtype': 'pmc', 'type': 'article'}\n",
      "{http://www.tei-c.org/ns/1.0}TEI {'subtype': 'econ', 'type': 'article'}\n",
      "{http://www.tei-c.org/ns/1.0}TEI {'subtype': 'pmc', 'type': 'article'}\n",
      "{http://www.tei-c.org/ns/1.0}TEI {'subtype': 'pmc', 'type': 'article'}\n",
      "{http://www.tei-c.org/ns/1.0}TEI {'subtype': 'pmc', 'type': 'article'}\n",
      "{http://www.tei-c.org/ns/1.0}TEI {'subtype': 'pmc', 'type': 'article'}\n",
      "{http://www.tei-c.org/ns/1.0}TEI {'subtype': 'pmc', 'type': 'article'}\n",
      "{http://www.tei-c.org/ns/1.0}TEI {'subtype': 'pmc', 'type': 'article'}\n",
      "{http://www.tei-c.org/ns/1.0}TEI {'subtype': 'pmc', 'type': 'article'}\n",
      "{http://www.tei-c.org/ns/1.0}TEI {'subtype': 'pmc', 'type': 'article'}\n",
      "{http://www.tei-c.org/ns/1.0}TEI {'subtype': 'pmc', 'type': 'article'}\n",
      "{http://www.tei-c.org/ns/1.0}TEI {'subtype': 'pmc', 'type': 'article'}\n",
      "{http://www.tei-c.org/ns/1.0}TEI {'subtype': 'pmc', 'type': 'article'}\n",
      "{http://www.tei-c.org/ns/1.0}TEI {'subtype': 'econ', 'type': 'article'}\n",
      "{http://www.tei-c.org/ns/1.0}TEI {'subtype': 'pmc', 'type': 'article'}\n",
      "{http://www.tei-c.org/ns/1.0}TEI {'subtype': 'pmc', 'type': 'article'}\n",
      "{http://www.tei-c.org/ns/1.0}TEI {'subtype': 'pmc', 'type': 'article'}\n",
      "{http://www.tei-c.org/ns/1.0}TEI {'subtype': 'econ', 'type': 'article'}\n",
      "{http://www.tei-c.org/ns/1.0}TEI {'subtype': 'pmc', 'type': 'article'}\n",
      "{http://www.tei-c.org/ns/1.0}TEI {'subtype': 'pmc', 'type': 'article'}\n",
      "{http://www.tei-c.org/ns/1.0}TEI {'subtype': 'pmc', 'type': 'article'}\n",
      "{http://www.tei-c.org/ns/1.0}TEI {'subtype': 'pmc', 'type': 'article'}\n",
      "{http://www.tei-c.org/ns/1.0}TEI {'subtype': 'econ', 'type': 'article'}\n",
      "{http://www.tei-c.org/ns/1.0}TEI {'subtype': 'econ', 'type': 'article'}\n",
      "{http://www.tei-c.org/ns/1.0}TEI {'subtype': 'pmc', 'type': 'article'}\n",
      "{http://www.tei-c.org/ns/1.0}TEI {'subtype': 'pmc', 'type': 'article'}\n",
      "{http://www.tei-c.org/ns/1.0}TEI {'subtype': 'pmc', 'type': 'article'}\n",
      "{http://www.tei-c.org/ns/1.0}TEI {'subtype': 'pmc', 'type': 'article'}\n",
      "{http://www.tei-c.org/ns/1.0}TEI {'subtype': 'pmc', 'type': 'article'}\n",
      "{http://www.tei-c.org/ns/1.0}TEI {'subtype': 'pmc', 'type': 'article'}\n",
      "{http://www.tei-c.org/ns/1.0}TEI {'subtype': 'pmc', 'type': 'article'}\n",
      "{http://www.tei-c.org/ns/1.0}TEI {'subtype': 'pmc', 'type': 'article'}\n",
      "{http://www.tei-c.org/ns/1.0}TEI {'subtype': 'pmc', 'type': 'article'}\n",
      "{http://www.tei-c.org/ns/1.0}TEI {'subtype': 'pmc', 'type': 'article'}\n",
      "{http://www.tei-c.org/ns/1.0}TEI {'subtype': 'pmc', 'type': 'article'}\n",
      "{http://www.tei-c.org/ns/1.0}TEI {'subtype': 'pmc', 'type': 'article'}\n",
      "{http://www.tei-c.org/ns/1.0}TEI {'subtype': 'pmc', 'type': 'article'}\n",
      "{http://www.tei-c.org/ns/1.0}TEI {'subtype': 'pmc', 'type': 'article'}\n"
     ]
    }
   ],
   "source": [
    "#Show the child tag and attributions\n",
    "for child in root[0:50]: \n",
    "    print(child.tag, child.attrib)"
   ]
  },
  {
   "cell_type": "code",
   "execution_count": 12,
   "id": "4fe820ee",
   "metadata": {},
   "outputs": [
    {
     "data": {
      "text/plain": [
       "4972"
      ]
     },
     "execution_count": 12,
     "metadata": {},
     "output_type": "execute_result"
    }
   ],
   "source": [
    "len(root)"
   ]
  },
  {
   "cell_type": "code",
   "execution_count": 13,
   "id": "7f79a66f",
   "metadata": {},
   "outputs": [],
   "source": [
    "#Check the elements in the dataset\n",
    "elements = [elem.tag for elem in root.iter()]"
   ]
  },
  {
   "cell_type": "code",
   "execution_count": 14,
   "id": "8e9421d0",
   "metadata": {},
   "outputs": [],
   "source": [
    "#elements"
   ]
  },
  {
   "cell_type": "code",
   "execution_count": 15,
   "id": "174a98b4",
   "metadata": {},
   "outputs": [],
   "source": [
    "#Extract all of the software in the dataset\n",
    "software_complete = []\n",
    "for software in root.iter('{http://www.tei-c.org/ns/1.0}rs'): \n",
    "    software_complete.append(software.text)"
   ]
  },
  {
   "cell_type": "code",
   "execution_count": 16,
   "id": "aba486e1",
   "metadata": {},
   "outputs": [],
   "source": [
    "#software_complete[295:500]"
   ]
  },
  {
   "cell_type": "code",
   "execution_count": 17,
   "id": "056f9f8b",
   "metadata": {},
   "outputs": [],
   "source": [
    "#Extract all of the article name in the dataset\n",
    "title_complete = []\n",
    "for title in root.iter('{http://www.tei-c.org/ns/1.0}title'): \n",
    "    title_complete.append(title.text)"
   ]
  },
  {
   "cell_type": "code",
   "execution_count": 18,
   "id": "ff2566ae",
   "metadata": {},
   "outputs": [
    {
     "data": {
      "text/plain": [
       "4971"
      ]
     },
     "execution_count": 18,
     "metadata": {},
     "output_type": "execute_result"
    }
   ],
   "source": [
    "len(title_complete)"
   ]
  },
  {
   "cell_type": "code",
   "execution_count": 19,
   "id": "c9dd2ce8",
   "metadata": {},
   "outputs": [],
   "source": [
    "p_complete = []\n",
    "for p in root.iter('{http://www.tei-c.org/ns/1.0}p'): \n",
    "    p_complete.append(p.text)"
   ]
  },
  {
   "cell_type": "code",
   "execution_count": 20,
   "id": "61069be9",
   "metadata": {},
   "outputs": [],
   "source": [
    "#p_complete[1:100]"
   ]
  },
  {
   "cell_type": "code",
   "execution_count": 21,
   "id": "ca476b72",
   "metadata": {},
   "outputs": [],
   "source": [
    "import pandas as pd\n",
    "data = pd.read_csv('/Users/xiaotianyu/Library/Mobile Documents/com~apple~CloudDocs/softcite-dataset-1.0/Softcite_first 100.csv', header=None)"
   ]
  },
  {
   "cell_type": "code",
   "execution_count": 22,
   "id": "23c9ec95",
   "metadata": {},
   "outputs": [],
   "source": [
    "#Extract all of the article name in the dataset\n",
    "title_complete = []\n",
    "for title in root.iter('{http://www.tei-c.org/ns/1.0}title'): \n",
    "    title_complete.append(title.text)"
   ]
  },
  {
   "cell_type": "code",
   "execution_count": 23,
   "id": "2bb223ed",
   "metadata": {},
   "outputs": [
    {
     "data": {
      "text/plain": [
       "['A comparative study of collimation in bedside chest radiography for preterm infants in two teaching hospitals',\n",
       " 'NaHCO3 enhances the antitumor activities of cytokine-induced killer cells against hepatocellular carcinoma HepG2 cells',\n",
       " 'Deep brain stimulation of globus pallidus internus for DYT1 posi- tive primary generalized dystonia',\n",
       " 'Methylation Levels of LINE-1 As a Useful Marker for Venous Invasion in Both FFPE and Frozen Tumor Tissues of Gastric Cancer',\n",
       " 'Embedding online patient record access in UK primary care: a survey of stakeholder experiences',\n",
       " 'A robust cell cycle control mechanism limits E2F-induced proliferation of terminally differentiated cells in vivo',\n",
       " 'Molecular Detection of &lt;i&gt;Giardia intestinalis&lt;/i&gt; from Stray Dogs in Animal Shelters of Gyeongsangbuk-do (Province) and Daejeon, Korea',\n",
       " 'The Effects of an Orientation Program on Quality of Life of Patients with Thalassemia: a Quasi-Experimental Study',\n",
       " 'Making your database available through Wikipedia: the pros and cons',\n",
       " 'Dairy Product Intake Is Inversely Associated with Metabolic Syndrome in Korean Adults: Anseong and Ansan Cohort of the Korean Genome and Epidemiology Study',\n",
       " 'Intra-tumor delivery of zoledronate mitigates metastasis-induced osteolysis superior to systemic administration',\n",
       " 'Dynamic Predictive Scores for Cardiac Surgery–Associated Acute Kidney Injury',\n",
       " 'A Short Introduction to the World of Cryptocurrencies',\n",
       " 'Vascular Pedicle Width on Chest Radiograph as a Measure of Volume Overload: Meta-Analysis',\n",
       " 'The development and exploratory analysis of the Back Pain Attitudes Questionnaire (Back-PAQ)',\n",
       " 'A novel role of sphingosine 1-phosphate receptor S1pr1 in mouse thrombopoiesis',\n",
       " 'Resveratrol blocks Akt activation in angiotensin II- or EGF-stimulated vascular smooth muscle cells in a redox-independent manner',\n",
       " 'Undergraduate Urban Metagenomics Research Module †',\n",
       " 'IL-17A (-197G/A) and IL-17F (7488T/C) gene polymorphisms and cancer risk in Asian population: a meta-analysis',\n",
       " 'C7orf30 is necessary for biogenesis of the large subunit of the mitochondrial ribosome',\n",
       " 'Comparison of Macitentan and Bosentan on Right Ventricular Remodeling in a Rat Model of Non-vasoreactive Pulmonary Hypertension',\n",
       " 'From computational discovery to experimental characterization of a high hole mobility organic crystal',\n",
       " 'Src kinases in chondrosarcoma chemoresistance and migration: dasatinib sensitises to doxorubicin in TP53 mutant cells',\n",
       " 'Evaluating Kyphosis and Lordosis in Students by Using a Flexible Ruler and Their Relationship with Severity and Frequency of Thoracic and Lumbar Pain',\n",
       " 'Micro-to-Macro Simulation: A Primer With a Labor Market Example',\n",
       " 'Point-of-care assessment of platelet reactivity in the emergency department may facilitate rapid rule-out of acute coronary syndromes: a prospective cohort pilot feasibility study',\n",
       " 'Physical activity, healthy lifestyle behaviors, neighborhood environment characteristics and social support among Australian Aboriginal and non-Aboriginal adults',\n",
       " 'Tau Oligomers Associate with Inflammation in the Brain and Retina of Tauopathy Mice and in Neurodegenerative Diseases',\n",
       " 'Impact of sustainable development indicators on economic growth: Baltic countries in the context of developed Europe',\n",
       " 'The possible molecular regulation mechanism of CIK cells inhibiting the proliferation of Human Lung Adenocarcinoma NCL-H157 Cells',\n",
       " 'Smooth muscle–endothelial cell communication activates Reelin signaling and regulates lymphatic vessel formation',\n",
       " 'RNA secondary structure regulates the translation of sxy and competence development in Haemophilus influenzae',\n",
       " 'Optimization of nutrition factors on chitinase production from a newly isolated Chitiolyticbacter meiyuanensis SYBC-H1',\n",
       " 'Co-integration Rank Determination in Partial Systems Using Information Criteria',\n",
       " 'THE SHIFTING DEMAND FOR HOUSING BY AMERICAN RENTERS AND ITS IMPACT ON HOUSEHOLD BUDGETS: 1940-2010*',\n",
       " 'Differences of Upper Airway Morphology According to Obesity: Study with Cephalometry and Dynamic MD-CT',\n",
       " 'Human telomeres replicate using chromosome-specific, rather than universal, replication programs',\n",
       " 'Resolving the <I>Diaporthe</I> species occurring on soybean in Croatia',\n",
       " 'A meta-analysis of neuroprotective effect for traditional Chinese medicine (TCM) in the treatment of glaucoma',\n",
       " 'Reliability and Validity of the Severe Impairment Battery (SIB) in Korean Dementia Patients',\n",
       " 'Protistan community analysis: key findings of a large-scale molecular sampling',\n",
       " 'Human Papillomavirus (HPV) Type Distribution in Females with Abnormal Cervical Cytology. A Correlation with Histological Study',\n",
       " 'Diagnostic yield of computed tomography-guided bone biopsy and clinical outcomes of tuberculous and pyogenic spondylitis',\n",
       " 'Mitogen-activated Protein Kinase Kinase Activity Maintains Acinar-to-Ductal Metaplasia and Is Required for Organ Regeneration in Pancreatitis',\n",
       " 'Shewanella knowledgebase: integration of the experimental data and computational predictions suggests a biological role for transcription of intergenic regions',\n",
       " \"Impact of an electronic medication management system on hospital doctors' and nurses' work: a controlled pre–post, time and motion study\",\n",
       " 'Antiviral effect of dietary germanium biotite supplementation in pigs experimentally infected with porcine reproductive and respiratory syndrome virus',\n",
       " 'The Effects of Kangaroo Mother Care and Swaddling on Venipuncture Pain in Premature Neonates: A Randomized Clinical Trial',\n",
       " 'Improving medication adherence among kidney transplant recipients: Findings from other industries',\n",
       " 'Are There Environmental Benefits from Driving Electric Vehicles? The Importance of Local Factors',\n",
       " 'Base methylations in the double-stranded RNA by a fused methyltransferase bearing unwinding activity',\n",
       " 'In silicoScreening of Chemical Libraries to Develop Inhibitors That Hamper the Interaction of PCSK9 with the LDL Receptor',\n",
       " 'Diet composition as a source of variation in experimental animal models of cancer cachexia',\n",
       " 'Tumor necrosis factor-alpha 308G>A polymorphism and risk of rheumatic heart disease: a meta-analysis',\n",
       " 'Prediction of Chronic Subdural Hematoma in Minor Head Trauma Patients',\n",
       " 'Echocardiographic evaluation during weaning from mechanical ventilation',\n",
       " 'The Effect of Precooling on Exhaustive Performance in the Hot Environment',\n",
       " 'Branched-chain amino acid restriction in Zucker-fatty rats improves muscle insulin sensitivity by enhancing efficiency of fatty acid oxidation and acyl-glycine export',\n",
       " 'Teaching Evidence Assimilation for Collaborative Health Care (TEACH) 2009-2014: Building Evidence-Based Capacity Within Health Care Provider Organizations',\n",
       " 'Verification of ALDH Activity as a Biomarker in Colon Cancer Stem Cells-Derived HT-29 Cell Line',\n",
       " 'Etablierung eines Skills Labs in der Tiermedizin in Deutschland Zusammenfassung Mit Änderungen der Ausbildungsordnung der Tierärztlichen Approbati- onsordnung (TAppO) zur jetzigen Tierärztlichen Approbationsverordnung OPEN ACCESS Tiermedizin',\n",
       " 'Association of Bisphenol A Exposure With Hypertension and Early Macrovascular Diseases in Chinese Adults',\n",
       " 'Connecting biodiversity and potential functional role in modern euxinic environments by microbial metagenomics',\n",
       " 'Intertrial auditory neural stability supports beat synchronization in preschoolers',\n",
       " 'Efficacy and Safety of Topiramate for Essential Tremor',\n",
       " 'Longitudinal study of infectious intestinal disease in the UK (IID2 study): incidence in the community and presenting to general practice',\n",
       " 'The effects of scale on the costs of targeted HIV prevention interventions among female and male sex workers, men who have sex with men and transgenders in India',\n",
       " 'Temozolomide in combination with metformin act synergistically to inhibit proliferation and expansion of glioma stem-like cells',\n",
       " 'Profile of chronic and aggressive periodontitis among Senegalese',\n",
       " 'N-myc downstream regulated gene 2 overexpression reduces matrix metalloproteinase-2 and -9 activities and cell invasion of A549 lung cancer cell line in vitro',\n",
       " \"Correlation between Tear Osmolarity and Other Ocular Surface Parameters in Primary Sjögren's Syndrome\",\n",
       " 'A Short Introduction to the World of Cryptocurrencies',\n",
       " 'Ingestive Behavior of Heifers Supplemented with Glycerin in Substitution of Corn on <i>Brachiaria brizantha</i> Pasture',\n",
       " 'Surgical navigation in paediatric orthopaedics',\n",
       " 'Oral health after breast cancer treatment in postmenopausal women',\n",
       " 'Anatomical Analysis of Intraorbital Structures Regarding Sinus Surgery Using Multiplanar Reconstruction of Computed Tomography Scans',\n",
       " 'Spatial Interactions in Hedonic Pricing Models: The Urban Housing Market of Aveiro, Portugal',\n",
       " 'Safety and efficacy of switching from dorzolamide 1.0%/timolol maleate 0.5% eye drops to brinzolamide 1.0%/timolol maleate 0.5% eye drops',\n",
       " 'The Effects of Non-Nutritive Sucking and Pre-Feeding Oral Stimulation on Time to Achieve Independent Oral Feeding for Preterm Infants',\n",
       " 'Limited genetic divergence between dog breeds from geographically isolated countries',\n",
       " 'A novel method to accurately locate and count large numbers of steps by photobleaching',\n",
       " 'What drives compliance? An application of the theory of planned behaviour to urban water restrictions using structural equation modelling',\n",
       " 'CCL-1 in the spinal cord contributes to neuropathic pain induced by nerve injury',\n",
       " 'Ocular Drug Distribution After Topical Administration: Population Pharmacokinetic Model in Rabbits',\n",
       " 'Augmentation index (AI) in a dose–response relationship with smoking habits in males',\n",
       " 'A Protocol for Targeted Enrichment of Intron-Containing Sequence Markers for Recent Radiations: A Phylogenomic Example from Heuchera (Saxifragaceae)',\n",
       " 'Updates to BioSamples database at European Bioinformatics Institute',\n",
       " 'The dynein cortical anchor Num1 activates dynein motility by relieving Pac1/LIS1-mediated inhibition',\n",
       " 'Human Immunodeficiency Virus Type 1 Subtypes Prevalence in Central China',\n",
       " 'Association Between Serum IgE Levels and the CTLA4 +49A/G and FCER1B -654C/T Polymorphisms in Korean Children With Asthma',\n",
       " 'Efficient mitochondrial targeting relies on co-operation of multiple protein signals in plants',\n",
       " 'Improved sequence-based prediction of disordered regions with multilayer fusion of multiple information sources',\n",
       " 'From “Made in China” to “Innovated in China”: Necessity, Prospect, and Challenges',\n",
       " 'Effect of electroacupuncture pretreatment at GB20 on behaviour and the descending pain modulatory system in a rat model of migraine',\n",
       " 'Association of an SNP in a novel DREB2-like gene SiDREB2 with stress tolerance in foxtail millet [Setaria italica (L.)]',\n",
       " 'Prevalence of General and Abdominal Obesity in a Nationally Representative Sample of Iranian Children and Adolescents: The CASPIAN-IV Study',\n",
       " 'Inappropriate Prescription and Renal Function Among Older Patients with Cognitive Impairment',\n",
       " 'Formulation and optimization of temozolomide nanoparticles by 3 factor 2 level factorial design',\n",
       " 'Analysis of dynamic smile and upper lip curvature in young Chinese',\n",
       " 'Development and evaluation of a dish-based semiquantitative food frequency questionnaire for Korean adolescents']"
      ]
     },
     "execution_count": 23,
     "metadata": {},
     "output_type": "execute_result"
    }
   ],
   "source": [
    "title_complete[0:100]"
   ]
  },
  {
   "cell_type": "code",
   "execution_count": 24,
   "id": "e3d51418",
   "metadata": {},
   "outputs": [
    {
     "data": {
      "text/html": [
       "<div>\n",
       "<style scoped>\n",
       "    .dataframe tbody tr th:only-of-type {\n",
       "        vertical-align: middle;\n",
       "    }\n",
       "\n",
       "    .dataframe tbody tr th {\n",
       "        vertical-align: top;\n",
       "    }\n",
       "\n",
       "    .dataframe thead th {\n",
       "        text-align: right;\n",
       "    }\n",
       "</style>\n",
       "<table border=\"1\" class=\"dataframe\">\n",
       "  <thead>\n",
       "    <tr style=\"text-align: right;\">\n",
       "      <th></th>\n",
       "      <th>0</th>\n",
       "      <th>1</th>\n",
       "      <th>2</th>\n",
       "      <th>3</th>\n",
       "      <th>4</th>\n",
       "      <th>5</th>\n",
       "    </tr>\n",
       "  </thead>\n",
       "  <tbody>\n",
       "    <tr>\n",
       "      <th>0</th>\n",
       "      <td>Article Name</td>\n",
       "      <td>Software Mention in Softcite Dataset</td>\n",
       "      <td>Frequency</td>\n",
       "      <td>Software Mention in Article</td>\n",
       "      <td>Frequency</td>\n",
       "      <td>Note</td>\n",
       "    </tr>\n",
       "    <tr>\n",
       "      <th>1</th>\n",
       "      <td>A comparative study of collimation in bedside ...</td>\n",
       "      <td>Excel</td>\n",
       "      <td>1</td>\n",
       "      <td>Excel</td>\n",
       "      <td>1</td>\n",
       "      <td>NaN</td>\n",
       "    </tr>\n",
       "    <tr>\n",
       "      <th>2</th>\n",
       "      <td>A comparative study of collimation in bedside ...</td>\n",
       "      <td>SAS 9.1</td>\n",
       "      <td>1</td>\n",
       "      <td>SAS 9.1</td>\n",
       "      <td>1</td>\n",
       "      <td>NaN</td>\n",
       "    </tr>\n",
       "    <tr>\n",
       "      <th>3</th>\n",
       "      <td>NaHCO3 enhances the antitumor activities of cy...</td>\n",
       "      <td>SPSS 13.0</td>\n",
       "      <td>1</td>\n",
       "      <td>WinMDI 2.9</td>\n",
       "      <td>1</td>\n",
       "      <td>NaN</td>\n",
       "    </tr>\n",
       "    <tr>\n",
       "      <th>4</th>\n",
       "      <td>NaHCO3 enhances the antitumor activities of cy...</td>\n",
       "      <td>NaN</td>\n",
       "      <td>NaN</td>\n",
       "      <td>SPSS 13.0</td>\n",
       "      <td>1</td>\n",
       "      <td>NaN</td>\n",
       "    </tr>\n",
       "    <tr>\n",
       "      <th>...</th>\n",
       "      <td>...</td>\n",
       "      <td>...</td>\n",
       "      <td>...</td>\n",
       "      <td>...</td>\n",
       "      <td>...</td>\n",
       "      <td>...</td>\n",
       "    </tr>\n",
       "    <tr>\n",
       "      <th>134</th>\n",
       "      <td>Inappropriate Prescription and Renal Function ...</td>\n",
       "      <td>SPSS 22</td>\n",
       "      <td>1</td>\n",
       "      <td>SPSS 22</td>\n",
       "      <td>1</td>\n",
       "      <td>NaN</td>\n",
       "    </tr>\n",
       "    <tr>\n",
       "      <th>135</th>\n",
       "      <td>Formulation and optimization of temozolomide n...</td>\n",
       "      <td>Expert Design</td>\n",
       "      <td>2</td>\n",
       "      <td>Expert Design</td>\n",
       "      <td>2</td>\n",
       "      <td>NaN</td>\n",
       "    </tr>\n",
       "    <tr>\n",
       "      <th>136</th>\n",
       "      <td>Analysis of dynamic smile and upper lip curvat...</td>\n",
       "      <td>Windows XP Professional</td>\n",
       "      <td>1</td>\n",
       "      <td>Windows XP Professional</td>\n",
       "      <td>1</td>\n",
       "      <td>NaN</td>\n",
       "    </tr>\n",
       "    <tr>\n",
       "      <th>137</th>\n",
       "      <td>Development and evaluation of a dish-based sem...</td>\n",
       "      <td>Can-pro 4.0</td>\n",
       "      <td>1</td>\n",
       "      <td>Can-pro 4.0</td>\n",
       "      <td>1</td>\n",
       "      <td>NaN</td>\n",
       "    </tr>\n",
       "    <tr>\n",
       "      <th>138</th>\n",
       "      <td>Development and evaluation of a dish-based sem...</td>\n",
       "      <td>Statistical Analysis System 9.2</td>\n",
       "      <td>1</td>\n",
       "      <td>Statistical Analysis System 9.2</td>\n",
       "      <td>1</td>\n",
       "      <td>NaN</td>\n",
       "    </tr>\n",
       "  </tbody>\n",
       "</table>\n",
       "<p>139 rows × 6 columns</p>\n",
       "</div>"
      ],
      "text/plain": [
       "                                                     0  \\\n",
       "0                                         Article Name   \n",
       "1    A comparative study of collimation in bedside ...   \n",
       "2    A comparative study of collimation in bedside ...   \n",
       "3    NaHCO3 enhances the antitumor activities of cy...   \n",
       "4    NaHCO3 enhances the antitumor activities of cy...   \n",
       "..                                                 ...   \n",
       "134  Inappropriate Prescription and Renal Function ...   \n",
       "135  Formulation and optimization of temozolomide n...   \n",
       "136  Analysis of dynamic smile and upper lip curvat...   \n",
       "137  Development and evaluation of a dish-based sem...   \n",
       "138  Development and evaluation of a dish-based sem...   \n",
       "\n",
       "                                         1           2  \\\n",
       "0    Software Mention in Softcite Dataset   Frequency    \n",
       "1                                    Excel           1   \n",
       "2                                  SAS 9.1           1   \n",
       "3                                SPSS 13.0           1   \n",
       "4                                      NaN         NaN   \n",
       "..                                     ...         ...   \n",
       "134                                SPSS 22           1   \n",
       "135                          Expert Design           2   \n",
       "136                Windows XP Professional           1   \n",
       "137                            Can-pro 4.0           1   \n",
       "138        Statistical Analysis System 9.2           1   \n",
       "\n",
       "                                   3          4     5  \n",
       "0        Software Mention in Article  Frequency  Note  \n",
       "1                             Excel           1   NaN  \n",
       "2                            SAS 9.1          1   NaN  \n",
       "3                         WinMDI 2.9          1   NaN  \n",
       "4                          SPSS 13.0          1   NaN  \n",
       "..                               ...        ...   ...  \n",
       "134                          SPSS 22          1   NaN  \n",
       "135                    Expert Design          2   NaN  \n",
       "136          Windows XP Professional          1   NaN  \n",
       "137                      Can-pro 4.0          1   NaN  \n",
       "138  Statistical Analysis System 9.2          1   NaN  \n",
       "\n",
       "[139 rows x 6 columns]"
      ]
     },
     "execution_count": 24,
     "metadata": {},
     "output_type": "execute_result"
    }
   ],
   "source": [
    "data"
   ]
  }
 ],
 "metadata": {
  "kernelspec": {
   "display_name": "Python 3",
   "language": "python",
   "name": "python3"
  },
  "language_info": {
   "codemirror_mode": {
    "name": "ipython",
    "version": 3
   },
   "file_extension": ".py",
   "mimetype": "text/x-python",
   "name": "python",
   "nbconvert_exporter": "python",
   "pygments_lexer": "ipython3",
   "version": "3.8.8"
  }
 },
 "nbformat": 4,
 "nbformat_minor": 5
}
