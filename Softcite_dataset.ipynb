{
 "cells": [
  {
   "cell_type": "code",
   "execution_count": 1,
   "id": "07e8709f",
   "metadata": {},
   "outputs": [],
   "source": [
    "import xml.etree.ElementTree as ET\n",
    "tree = ET.parse('/Users/xiaotianyu/Downloads/softcite-dataset-1.0/softcite_corpus-full.tei.xml')\n",
    "root = tree.getroot()"
   ]
  },
  {
   "cell_type": "code",
   "execution_count": 2,
   "id": "567fb614",
   "metadata": {},
   "outputs": [
    {
     "name": "stdout",
     "output_type": "stream",
     "text": [
      "Requirement already satisfied: lxml in ./opt/anaconda3/lib/python3.8/site-packages (4.6.3)\n",
      "Note: you may need to restart the kernel to use updated packages.\n"
     ]
    }
   ],
   "source": [
    "pip install lxml"
   ]
  },
  {
   "cell_type": "code",
   "execution_count": 3,
   "id": "56f2f927",
   "metadata": {},
   "outputs": [
    {
     "name": "stdout",
     "output_type": "stream",
     "text": [
      "Requirement already satisfied: notebook in ./opt/anaconda3/lib/python3.8/site-packages (6.4.4)\n",
      "Requirement already satisfied: traitlets>=4.2.1 in ./opt/anaconda3/lib/python3.8/site-packages (from notebook) (5.0.5)\n",
      "Requirement already satisfied: ipython-genutils in ./opt/anaconda3/lib/python3.8/site-packages (from notebook) (0.2.0)\n",
      "Requirement already satisfied: terminado>=0.8.3 in ./opt/anaconda3/lib/python3.8/site-packages (from notebook) (0.9.4)\n",
      "Requirement already satisfied: jupyter-client>=5.3.4 in ./opt/anaconda3/lib/python3.8/site-packages (from notebook) (6.1.12)\n",
      "Requirement already satisfied: Send2Trash>=1.5.0 in ./opt/anaconda3/lib/python3.8/site-packages (from notebook) (1.5.0)\n",
      "Requirement already satisfied: tornado>=6.1 in ./opt/anaconda3/lib/python3.8/site-packages (from notebook) (6.1)\n",
      "Requirement already satisfied: nbformat in ./opt/anaconda3/lib/python3.8/site-packages (from notebook) (5.1.3)\n",
      "Requirement already satisfied: jinja2 in ./opt/anaconda3/lib/python3.8/site-packages (from notebook) (2.11.3)\n",
      "Requirement already satisfied: argon2-cffi in ./opt/anaconda3/lib/python3.8/site-packages (from notebook) (20.1.0)\n",
      "Requirement already satisfied: nbconvert in ./opt/anaconda3/lib/python3.8/site-packages (from notebook) (6.0.7)\n",
      "Requirement already satisfied: pyzmq>=17 in ./opt/anaconda3/lib/python3.8/site-packages (from notebook) (20.0.0)\n",
      "Requirement already satisfied: ipykernel in ./opt/anaconda3/lib/python3.8/site-packages (from notebook) (5.3.4)\n",
      "Requirement already satisfied: prometheus-client in ./opt/anaconda3/lib/python3.8/site-packages (from notebook) (0.10.1)\n",
      "Requirement already satisfied: jupyter-core>=4.6.1 in ./opt/anaconda3/lib/python3.8/site-packages (from notebook) (4.7.1)\n",
      "Requirement already satisfied: python-dateutil>=2.1 in ./opt/anaconda3/lib/python3.8/site-packages (from jupyter-client>=5.3.4->notebook) (2.8.1)\n",
      "Requirement already satisfied: six>=1.5 in ./opt/anaconda3/lib/python3.8/site-packages (from python-dateutil>=2.1->jupyter-client>=5.3.4->notebook) (1.15.0)\n",
      "Requirement already satisfied: ptyprocess in ./opt/anaconda3/lib/python3.8/site-packages (from terminado>=0.8.3->notebook) (0.7.0)\n",
      "Requirement already satisfied: cffi>=1.0.0 in ./opt/anaconda3/lib/python3.8/site-packages (from argon2-cffi->notebook) (1.14.5)\n",
      "Requirement already satisfied: pycparser in ./opt/anaconda3/lib/python3.8/site-packages (from cffi>=1.0.0->argon2-cffi->notebook) (2.20)\n",
      "Requirement already satisfied: ipython>=5.0.0 in ./opt/anaconda3/lib/python3.8/site-packages (from ipykernel->notebook) (7.22.0)\n",
      "Requirement already satisfied: appnope in ./opt/anaconda3/lib/python3.8/site-packages (from ipykernel->notebook) (0.1.2)\n",
      "Requirement already satisfied: pexpect>4.3 in ./opt/anaconda3/lib/python3.8/site-packages (from ipython>=5.0.0->ipykernel->notebook) (4.8.0)\n",
      "Requirement already satisfied: pygments in ./opt/anaconda3/lib/python3.8/site-packages (from ipython>=5.0.0->ipykernel->notebook) (2.8.1)\n",
      "Requirement already satisfied: backcall in ./opt/anaconda3/lib/python3.8/site-packages (from ipython>=5.0.0->ipykernel->notebook) (0.2.0)\n",
      "Requirement already satisfied: jedi>=0.16 in ./opt/anaconda3/lib/python3.8/site-packages (from ipython>=5.0.0->ipykernel->notebook) (0.17.2)\n",
      "Requirement already satisfied: setuptools>=18.5 in ./opt/anaconda3/lib/python3.8/site-packages (from ipython>=5.0.0->ipykernel->notebook) (52.0.0.post20210125)\n",
      "Requirement already satisfied: prompt-toolkit!=3.0.0,!=3.0.1,<3.1.0,>=2.0.0 in ./opt/anaconda3/lib/python3.8/site-packages (from ipython>=5.0.0->ipykernel->notebook) (3.0.17)\n",
      "Requirement already satisfied: pickleshare in ./opt/anaconda3/lib/python3.8/site-packages (from ipython>=5.0.0->ipykernel->notebook) (0.7.5)\n",
      "Requirement already satisfied: decorator in ./opt/anaconda3/lib/python3.8/site-packages (from ipython>=5.0.0->ipykernel->notebook) (5.0.6)\n",
      "Requirement already satisfied: parso<0.8.0,>=0.7.0 in ./opt/anaconda3/lib/python3.8/site-packages (from jedi>=0.16->ipython>=5.0.0->ipykernel->notebook) (0.7.0)\n",
      "Requirement already satisfied: wcwidth in ./opt/anaconda3/lib/python3.8/site-packages (from prompt-toolkit!=3.0.0,!=3.0.1,<3.1.0,>=2.0.0->ipython>=5.0.0->ipykernel->notebook) (0.2.5)\n",
      "Requirement already satisfied: MarkupSafe>=0.23 in ./opt/anaconda3/lib/python3.8/site-packages (from jinja2->notebook) (1.1.1)\n",
      "Requirement already satisfied: testpath in ./opt/anaconda3/lib/python3.8/site-packages (from nbconvert->notebook) (0.4.4)\n",
      "Requirement already satisfied: pandocfilters>=1.4.1 in ./opt/anaconda3/lib/python3.8/site-packages (from nbconvert->notebook) (1.4.3)\n",
      "Requirement already satisfied: nbclient<0.6.0,>=0.5.0 in ./opt/anaconda3/lib/python3.8/site-packages (from nbconvert->notebook) (0.5.3)\n",
      "Requirement already satisfied: jupyterlab-pygments in ./opt/anaconda3/lib/python3.8/site-packages (from nbconvert->notebook) (0.1.2)\n",
      "Requirement already satisfied: defusedxml in ./opt/anaconda3/lib/python3.8/site-packages (from nbconvert->notebook) (0.7.1)\n",
      "Requirement already satisfied: entrypoints>=0.2.2 in ./opt/anaconda3/lib/python3.8/site-packages (from nbconvert->notebook) (0.3)\n",
      "Requirement already satisfied: bleach in ./opt/anaconda3/lib/python3.8/site-packages (from nbconvert->notebook) (3.3.0)\n",
      "Requirement already satisfied: mistune<2,>=0.8.1 in ./opt/anaconda3/lib/python3.8/site-packages (from nbconvert->notebook) (0.8.4)\n",
      "Requirement already satisfied: async-generator in ./opt/anaconda3/lib/python3.8/site-packages (from nbclient<0.6.0,>=0.5.0->nbconvert->notebook) (1.10)\n",
      "Requirement already satisfied: nest-asyncio in ./opt/anaconda3/lib/python3.8/site-packages (from nbclient<0.6.0,>=0.5.0->nbconvert->notebook) (1.5.1)\n",
      "Requirement already satisfied: jsonschema!=2.5.0,>=2.4 in ./opt/anaconda3/lib/python3.8/site-packages (from nbformat->notebook) (3.2.0)\n",
      "Requirement already satisfied: pyrsistent>=0.14.0 in ./opt/anaconda3/lib/python3.8/site-packages (from jsonschema!=2.5.0,>=2.4->nbformat->notebook) (0.17.3)\n",
      "Requirement already satisfied: attrs>=17.4.0 in ./opt/anaconda3/lib/python3.8/site-packages (from jsonschema!=2.5.0,>=2.4->nbformat->notebook) (20.3.0)\n",
      "Requirement already satisfied: webencodings in ./opt/anaconda3/lib/python3.8/site-packages (from bleach->nbconvert->notebook) (0.5.1)\n",
      "Requirement already satisfied: packaging in ./opt/anaconda3/lib/python3.8/site-packages (from bleach->nbconvert->notebook) (20.9)\n",
      "Requirement already satisfied: pyparsing>=2.0.2 in ./opt/anaconda3/lib/python3.8/site-packages (from packaging->bleach->nbconvert->notebook) (2.4.7)\n",
      "Note: you may need to restart the kernel to use updated packages.\n"
     ]
    }
   ],
   "source": [
    "pip install notebook --upgrade"
   ]
  },
  {
   "cell_type": "code",
   "execution_count": 4,
   "id": "7e24a45f",
   "metadata": {},
   "outputs": [
    {
     "name": "stdout",
     "output_type": "stream",
     "text": [
      "Requirement already satisfied: beautifulsoup4 in ./opt/anaconda3/lib/python3.8/site-packages (4.9.3)\n",
      "Requirement already satisfied: soupsieve>1.2 in ./opt/anaconda3/lib/python3.8/site-packages (from beautifulsoup4) (2.2.1)\n",
      "Note: you may need to restart the kernel to use updated packages.\n"
     ]
    }
   ],
   "source": [
    "pip install beautifulsoup4"
   ]
  },
  {
   "cell_type": "code",
   "execution_count": 5,
   "id": "fefdee1e",
   "metadata": {},
   "outputs": [],
   "source": [
    "from bs4 import BeautifulSoup"
   ]
  },
  {
   "cell_type": "code",
   "execution_count": 6,
   "id": "230cdaf9",
   "metadata": {},
   "outputs": [],
   "source": [
    "#Open the dataset \n",
    "with open('/Users/xiaotianyu/Downloads/softcite-dataset-1.0/softcite_corpus-full.tei.xml', 'r') as f:\n",
    "    data = f.read()"
   ]
  },
  {
   "cell_type": "code",
   "execution_count": 7,
   "id": "b86561b7",
   "metadata": {},
   "outputs": [
    {
     "data": {
      "text/plain": [
       "<xml.etree.ElementTree.ElementTree at 0x7f82794bb490>"
      ]
     },
     "execution_count": 7,
     "metadata": {},
     "output_type": "execute_result"
    }
   ],
   "source": [
    "tree"
   ]
  },
  {
   "cell_type": "code",
   "execution_count": 8,
   "id": "45d06d1d",
   "metadata": {},
   "outputs": [],
   "source": [
    "softcite = BeautifulSoup(data, \"xml\")"
   ]
  },
  {
   "cell_type": "code",
   "execution_count": 9,
   "id": "cd79491c",
   "metadata": {},
   "outputs": [
    {
     "data": {
      "text/plain": [
       "'{http://www.tei-c.org/ns/1.0}teiCorpus'"
      ]
     },
     "execution_count": 9,
     "metadata": {},
     "output_type": "execute_result"
    }
   ],
   "source": [
    "#Check root tag\n",
    "root.tag"
   ]
  },
  {
   "cell_type": "code",
   "execution_count": 10,
   "id": "cf6cb3e1",
   "metadata": {},
   "outputs": [
    {
     "data": {
      "text/plain": [
       "{'version': '4.0.0'}"
      ]
     },
     "execution_count": 10,
     "metadata": {},
     "output_type": "execute_result"
    }
   ],
   "source": [
    "#Check root attribution\n",
    "root.attrib"
   ]
  },
  {
   "cell_type": "code",
   "execution_count": 11,
   "id": "f7c26f87",
   "metadata": {},
   "outputs": [],
   "source": [
    "#Show the child tag and attributions\n",
    "#for child in root: print(child.tag, child.attrib)"
   ]
  },
  {
   "cell_type": "code",
   "execution_count": 12,
   "id": "4fe820ee",
   "metadata": {},
   "outputs": [
    {
     "data": {
      "text/plain": [
       "4972"
      ]
     },
     "execution_count": 12,
     "metadata": {},
     "output_type": "execute_result"
    }
   ],
   "source": [
    "len(root)"
   ]
  },
  {
   "cell_type": "code",
   "execution_count": 13,
   "id": "7f79a66f",
   "metadata": {},
   "outputs": [],
   "source": [
    "#Check the elements in the dataset\n",
    "elements = [elem.tag for elem in root.iter()]"
   ]
  },
  {
   "cell_type": "code",
   "execution_count": 14,
   "id": "8e9421d0",
   "metadata": {},
   "outputs": [],
   "source": [
    "#elements"
   ]
  },
  {
   "cell_type": "code",
   "execution_count": 15,
   "id": "174a98b4",
   "metadata": {},
   "outputs": [],
   "source": [
    "#Extract all of the software in the dataset\n",
    "software_complete = []\n",
    "for software in root.iter('{http://www.tei-c.org/ns/1.0}rs'): \n",
    "    software_complete.append(software.text)"
   ]
  },
  {
   "cell_type": "code",
   "execution_count": 16,
   "id": "aba486e1",
   "metadata": {},
   "outputs": [
    {
     "data": {
      "text/plain": [
       "['Excel',\n",
       " 'Microsoft',\n",
       " 'SAS',\n",
       " '9.1',\n",
       " 'SAS Institute',\n",
       " 'SPSS',\n",
       " '13.0',\n",
       " 'SPSS Inc',\n",
       " 'SPSS',\n",
       " '11.0',\n",
       " 'SPSS Inc',\n",
       " 'GraphPad Prism',\n",
       " '5.0',\n",
       " 'GraphPad Software',\n",
       " 'HealthSpace',\n",
       " 'Genesis',\n",
       " 'JCB DataViewer',\n",
       " 'Photoshop',\n",
       " 'Adobe',\n",
       " 'JCB DataViewer',\n",
       " 'BLASTN',\n",
       " 'http://www. ncbi.nml.nih.gov/blast/',\n",
       " 'CLUSTAL W2',\n",
       " 'www.ebi.ac.uk/Tools/msa/clustalw2',\n",
       " 'SPSS',\n",
       " '13',\n",
       " 'WikiTrust',\n",
       " 'Firefox',\n",
       " 'Stata',\n",
       " '11',\n",
       " 'Living Image',\n",
       " 'Imagescope',\n",
       " 'Aperio',\n",
       " 'Imagescope',\n",
       " 'Aperio',\n",
       " 'SPSS',\n",
       " '20.0',\n",
       " 'IBM Corp',\n",
       " 'Comprehensive meta- analysis',\n",
       " '2.2',\n",
       " 'Stata',\n",
       " '11',\n",
       " 'Word',\n",
       " 'Microsoft Corp',\n",
       " 'PostgreSQL',\n",
       " '9.1.4',\n",
       " 'http:// postgresql.org',\n",
       " 'PostgreSQL Global Development Group',\n",
       " 'Volocity',\n",
       " 'PerkinElmer',\n",
       " 'AxioVision',\n",
       " 'Carl Zeiss',\n",
       " 'ImageJ',\n",
       " 'National Institutes of Health',\n",
       " 'AxioVision',\n",
       " 'AIDA image analyser',\n",
       " '4.06',\n",
       " 'Raytest',\n",
       " 'GraphPad PRISM',\n",
       " '4.0',\n",
       " 'GraphPad Software',\n",
       " 'QIIME',\n",
       " 'qiime.org',\n",
       " 'Review Manager (RevMan)',\n",
       " '5.0',\n",
       " 'The Nordic Cochrane Centre',\n",
       " 'Stata',\n",
       " '11.0',\n",
       " 'Stata Corp',\n",
       " 'ImageQuant',\n",
       " 'Molecular Dynamics',\n",
       " 'ImageQuant',\n",
       " 'Echopac',\n",
       " 'CellSens Standard',\n",
       " '1.3',\n",
       " 'Olympus Corporation',\n",
       " 'Forcite',\n",
       " 'primer',\n",
       " '3',\n",
       " 'SPSS',\n",
       " '17.0',\n",
       " 'GraphPad Prism',\n",
       " '5',\n",
       " 'SPSS',\n",
       " '16',\n",
       " 'SPSS Inc',\n",
       " 'GraphPad Prism',\n",
       " '5.04',\n",
       " 'SAS',\n",
       " '9.3',\n",
       " 'SPSS',\n",
       " '21.0',\n",
       " 'ImageJ',\n",
       " 'Graphpad Prism',\n",
       " '6',\n",
       " 'Graphpad Software',\n",
       " 'ImageJ',\n",
       " 'GraphPad Prism',\n",
       " '6',\n",
       " 'GraphPad Software',\n",
       " 'GraphPad Prism',\n",
       " '6',\n",
       " 'GraphPad Software',\n",
       " 'MS Excel',\n",
       " 'Quantity One',\n",
       " 'Bio-Rad',\n",
       " 'SPSS',\n",
       " '11.5',\n",
       " 'Photoshop',\n",
       " 'CS4 or CS5',\n",
       " 'Adobe',\n",
       " 'MetaMorph Imaging',\n",
       " 'Molecular Devices',\n",
       " 'MetaMorph',\n",
       " 'Living Image',\n",
       " '3',\n",
       " 'Caliper Life Sciences',\n",
       " 'Prism',\n",
       " '5',\n",
       " 'Bioconductor',\n",
       " 'Limma',\n",
       " 'Zen',\n",
       " '2009',\n",
       " 'Carl Zeiss',\n",
       " 'Microsystems software',\n",
       " 'Leica',\n",
       " 'ImageQuant',\n",
       " 'SPSS',\n",
       " '11.5',\n",
       " 'Design Expert',\n",
       " '7',\n",
       " 'OxMetrics',\n",
       " 'MATLAB',\n",
       " 'STATA',\n",
       " 'SPSS',\n",
       " '15.0',\n",
       " 'SPSS Inc',\n",
       " 'IPLab',\n",
       " 'BD',\n",
       " 'Photoshop',\n",
       " 'Adobe',\n",
       " 'Illustrator',\n",
       " 'Adobe',\n",
       " 'MrBayes',\n",
       " '3.0b4',\n",
       " 'PAUP (Phylogenetic Analysis Using Parsimony)',\n",
       " '4.0b10',\n",
       " 'Maximum Parsimony (MP)',\n",
       " 'STATA/SE',\n",
       " '11.0']"
      ]
     },
     "execution_count": 16,
     "metadata": {},
     "output_type": "execute_result"
    }
   ],
   "source": [
    "software_complete[0:150]"
   ]
  },
  {
   "cell_type": "code",
   "execution_count": 17,
   "id": "056f9f8b",
   "metadata": {},
   "outputs": [],
   "source": [
    "#Extract all of the article name in the dataset\n",
    "title_complete = []\n",
    "for title in root.iter('{http://www.tei-c.org/ns/1.0}title'): \n",
    "    title_complete.append(title.text)"
   ]
  },
  {
   "cell_type": "code",
   "execution_count": 18,
   "id": "ff2566ae",
   "metadata": {},
   "outputs": [
    {
     "data": {
      "text/plain": [
       "4971"
      ]
     },
     "execution_count": 18,
     "metadata": {},
     "output_type": "execute_result"
    }
   ],
   "source": [
    "len(title_complete)"
   ]
  },
  {
   "cell_type": "code",
   "execution_count": 19,
   "id": "d23c1075",
   "metadata": {},
   "outputs": [
    {
     "data": {
      "text/plain": [
       "['A comparative study of collimation in bedside chest radiography for preterm infants in two teaching hospitals',\n",
       " 'NaHCO3 enhances the antitumor activities of cytokine-induced killer cells against hepatocellular carcinoma HepG2 cells',\n",
       " 'Deep brain stimulation of globus pallidus internus for DYT1 posi- tive primary generalized dystonia',\n",
       " 'Methylation Levels of LINE-1 As a Useful Marker for Venous Invasion in Both FFPE and Frozen Tumor Tissues of Gastric Cancer',\n",
       " 'Embedding online patient record access in UK primary care: a survey of stakeholder experiences',\n",
       " 'A robust cell cycle control mechanism limits E2F-induced proliferation of terminally differentiated cells in vivo',\n",
       " 'Molecular Detection of &lt;i&gt;Giardia intestinalis&lt;/i&gt; from Stray Dogs in Animal Shelters of Gyeongsangbuk-do (Province) and Daejeon, Korea',\n",
       " 'The Effects of an Orientation Program on Quality of Life of Patients with Thalassemia: a Quasi-Experimental Study',\n",
       " 'Making your database available through Wikipedia: the pros and cons',\n",
       " 'Dairy Product Intake Is Inversely Associated with Metabolic Syndrome in Korean Adults: Anseong and Ansan Cohort of the Korean Genome and Epidemiology Study',\n",
       " 'Intra-tumor delivery of zoledronate mitigates metastasis-induced osteolysis superior to systemic administration',\n",
       " 'Dynamic Predictive Scores for Cardiac Surgery–Associated Acute Kidney Injury',\n",
       " 'A Short Introduction to the World of Cryptocurrencies',\n",
       " 'Vascular Pedicle Width on Chest Radiograph as a Measure of Volume Overload: Meta-Analysis',\n",
       " 'The development and exploratory analysis of the Back Pain Attitudes Questionnaire (Back-PAQ)',\n",
       " 'A novel role of sphingosine 1-phosphate receptor S1pr1 in mouse thrombopoiesis',\n",
       " 'Resveratrol blocks Akt activation in angiotensin II- or EGF-stimulated vascular smooth muscle cells in a redox-independent manner',\n",
       " 'Undergraduate Urban Metagenomics Research Module †',\n",
       " 'IL-17A (-197G/A) and IL-17F (7488T/C) gene polymorphisms and cancer risk in Asian population: a meta-analysis',\n",
       " 'C7orf30 is necessary for biogenesis of the large subunit of the mitochondrial ribosome',\n",
       " 'Comparison of Macitentan and Bosentan on Right Ventricular Remodeling in a Rat Model of Non-vasoreactive Pulmonary Hypertension',\n",
       " 'From computational discovery to experimental characterization of a high hole mobility organic crystal',\n",
       " 'Src kinases in chondrosarcoma chemoresistance and migration: dasatinib sensitises to doxorubicin in TP53 mutant cells',\n",
       " 'Evaluating Kyphosis and Lordosis in Students by Using a Flexible Ruler and Their Relationship with Severity and Frequency of Thoracic and Lumbar Pain',\n",
       " 'Micro-to-Macro Simulation: A Primer With a Labor Market Example',\n",
       " 'Point-of-care assessment of platelet reactivity in the emergency department may facilitate rapid rule-out of acute coronary syndromes: a prospective cohort pilot feasibility study',\n",
       " 'Physical activity, healthy lifestyle behaviors, neighborhood environment characteristics and social support among Australian Aboriginal and non-Aboriginal adults',\n",
       " 'Tau Oligomers Associate with Inflammation in the Brain and Retina of Tauopathy Mice and in Neurodegenerative Diseases',\n",
       " 'Impact of sustainable development indicators on economic growth: Baltic countries in the context of developed Europe',\n",
       " 'The possible molecular regulation mechanism of CIK cells inhibiting the proliferation of Human Lung Adenocarcinoma NCL-H157 Cells',\n",
       " 'Smooth muscle–endothelial cell communication activates Reelin signaling and regulates lymphatic vessel formation',\n",
       " 'RNA secondary structure regulates the translation of sxy and competence development in Haemophilus influenzae',\n",
       " 'Optimization of nutrition factors on chitinase production from a newly isolated Chitiolyticbacter meiyuanensis SYBC-H1',\n",
       " 'Co-integration Rank Determination in Partial Systems Using Information Criteria',\n",
       " 'THE SHIFTING DEMAND FOR HOUSING BY AMERICAN RENTERS AND ITS IMPACT ON HOUSEHOLD BUDGETS: 1940-2010*',\n",
       " 'Differences of Upper Airway Morphology According to Obesity: Study with Cephalometry and Dynamic MD-CT',\n",
       " 'Human telomeres replicate using chromosome-specific, rather than universal, replication programs',\n",
       " 'Resolving the <I>Diaporthe</I> species occurring on soybean in Croatia',\n",
       " 'A meta-analysis of neuroprotective effect for traditional Chinese medicine (TCM) in the treatment of glaucoma',\n",
       " 'Reliability and Validity of the Severe Impairment Battery (SIB) in Korean Dementia Patients',\n",
       " 'Protistan community analysis: key findings of a large-scale molecular sampling',\n",
       " 'Human Papillomavirus (HPV) Type Distribution in Females with Abnormal Cervical Cytology. A Correlation with Histological Study',\n",
       " 'Diagnostic yield of computed tomography-guided bone biopsy and clinical outcomes of tuberculous and pyogenic spondylitis',\n",
       " 'Mitogen-activated Protein Kinase Kinase Activity Maintains Acinar-to-Ductal Metaplasia and Is Required for Organ Regeneration in Pancreatitis',\n",
       " 'Shewanella knowledgebase: integration of the experimental data and computational predictions suggests a biological role for transcription of intergenic regions',\n",
       " \"Impact of an electronic medication management system on hospital doctors' and nurses' work: a controlled pre–post, time and motion study\",\n",
       " 'Antiviral effect of dietary germanium biotite supplementation in pigs experimentally infected with porcine reproductive and respiratory syndrome virus',\n",
       " 'The Effects of Kangaroo Mother Care and Swaddling on Venipuncture Pain in Premature Neonates: A Randomized Clinical Trial',\n",
       " 'Improving medication adherence among kidney transplant recipients: Findings from other industries',\n",
       " 'Are There Environmental Benefits from Driving Electric Vehicles? The Importance of Local Factors',\n",
       " 'Base methylations in the double-stranded RNA by a fused methyltransferase bearing unwinding activity',\n",
       " 'In silicoScreening of Chemical Libraries to Develop Inhibitors That Hamper the Interaction of PCSK9 with the LDL Receptor',\n",
       " 'Diet composition as a source of variation in experimental animal models of cancer cachexia',\n",
       " 'Tumor necrosis factor-alpha 308G>A polymorphism and risk of rheumatic heart disease: a meta-analysis',\n",
       " 'Prediction of Chronic Subdural Hematoma in Minor Head Trauma Patients',\n",
       " 'Echocardiographic evaluation during weaning from mechanical ventilation',\n",
       " 'The Effect of Precooling on Exhaustive Performance in the Hot Environment',\n",
       " 'Branched-chain amino acid restriction in Zucker-fatty rats improves muscle insulin sensitivity by enhancing efficiency of fatty acid oxidation and acyl-glycine export',\n",
       " 'Teaching Evidence Assimilation for Collaborative Health Care (TEACH) 2009-2014: Building Evidence-Based Capacity Within Health Care Provider Organizations',\n",
       " 'Verification of ALDH Activity as a Biomarker in Colon Cancer Stem Cells-Derived HT-29 Cell Line',\n",
       " 'Etablierung eines Skills Labs in der Tiermedizin in Deutschland Zusammenfassung Mit Änderungen der Ausbildungsordnung der Tierärztlichen Approbati- onsordnung (TAppO) zur jetzigen Tierärztlichen Approbationsverordnung OPEN ACCESS Tiermedizin',\n",
       " 'Association of Bisphenol A Exposure With Hypertension and Early Macrovascular Diseases in Chinese Adults',\n",
       " 'Connecting biodiversity and potential functional role in modern euxinic environments by microbial metagenomics',\n",
       " 'Intertrial auditory neural stability supports beat synchronization in preschoolers',\n",
       " 'Efficacy and Safety of Topiramate for Essential Tremor',\n",
       " 'Longitudinal study of infectious intestinal disease in the UK (IID2 study): incidence in the community and presenting to general practice',\n",
       " 'The effects of scale on the costs of targeted HIV prevention interventions among female and male sex workers, men who have sex with men and transgenders in India',\n",
       " 'Temozolomide in combination with metformin act synergistically to inhibit proliferation and expansion of glioma stem-like cells',\n",
       " 'Profile of chronic and aggressive periodontitis among Senegalese',\n",
       " 'N-myc downstream regulated gene 2 overexpression reduces matrix metalloproteinase-2 and -9 activities and cell invasion of A549 lung cancer cell line in vitro',\n",
       " \"Correlation between Tear Osmolarity and Other Ocular Surface Parameters in Primary Sjögren's Syndrome\",\n",
       " 'A Short Introduction to the World of Cryptocurrencies',\n",
       " 'Ingestive Behavior of Heifers Supplemented with Glycerin in Substitution of Corn on <i>Brachiaria brizantha</i> Pasture',\n",
       " 'Surgical navigation in paediatric orthopaedics',\n",
       " 'Oral health after breast cancer treatment in postmenopausal women',\n",
       " 'Anatomical Analysis of Intraorbital Structures Regarding Sinus Surgery Using Multiplanar Reconstruction of Computed Tomography Scans',\n",
       " 'Spatial Interactions in Hedonic Pricing Models: The Urban Housing Market of Aveiro, Portugal',\n",
       " 'Safety and efficacy of switching from dorzolamide 1.0%/timolol maleate 0.5% eye drops to brinzolamide 1.0%/timolol maleate 0.5% eye drops',\n",
       " 'The Effects of Non-Nutritive Sucking and Pre-Feeding Oral Stimulation on Time to Achieve Independent Oral Feeding for Preterm Infants',\n",
       " 'Limited genetic divergence between dog breeds from geographically isolated countries',\n",
       " 'A novel method to accurately locate and count large numbers of steps by photobleaching',\n",
       " 'What drives compliance? An application of the theory of planned behaviour to urban water restrictions using structural equation modelling',\n",
       " 'CCL-1 in the spinal cord contributes to neuropathic pain induced by nerve injury',\n",
       " 'Ocular Drug Distribution After Topical Administration: Population Pharmacokinetic Model in Rabbits',\n",
       " 'Augmentation index (AI) in a dose–response relationship with smoking habits in males',\n",
       " 'A Protocol for Targeted Enrichment of Intron-Containing Sequence Markers for Recent Radiations: A Phylogenomic Example from Heuchera (Saxifragaceae)',\n",
       " 'Updates to BioSamples database at European Bioinformatics Institute',\n",
       " 'The dynein cortical anchor Num1 activates dynein motility by relieving Pac1/LIS1-mediated inhibition',\n",
       " 'Human Immunodeficiency Virus Type 1 Subtypes Prevalence in Central China',\n",
       " 'Association Between Serum IgE Levels and the CTLA4 +49A/G and FCER1B -654C/T Polymorphisms in Korean Children With Asthma',\n",
       " 'Efficient mitochondrial targeting relies on co-operation of multiple protein signals in plants',\n",
       " 'Improved sequence-based prediction of disordered regions with multilayer fusion of multiple information sources',\n",
       " 'From “Made in China” to “Innovated in China”: Necessity, Prospect, and Challenges',\n",
       " 'Effect of electroacupuncture pretreatment at GB20 on behaviour and the descending pain modulatory system in a rat model of migraine',\n",
       " 'Association of an SNP in a novel DREB2-like gene SiDREB2 with stress tolerance in foxtail millet [Setaria italica (L.)]',\n",
       " 'Prevalence of General and Abdominal Obesity in a Nationally Representative Sample of Iranian Children and Adolescents: The CASPIAN-IV Study',\n",
       " 'Inappropriate Prescription and Renal Function Among Older Patients with Cognitive Impairment',\n",
       " 'Formulation and optimization of temozolomide nanoparticles by 3 factor 2 level factorial design',\n",
       " 'Analysis of dynamic smile and upper lip curvature in young Chinese',\n",
       " 'Development and evaluation of a dish-based semiquantitative food frequency questionnaire for Korean adolescents']"
      ]
     },
     "execution_count": 19,
     "metadata": {},
     "output_type": "execute_result"
    }
   ],
   "source": [
    "title_complete[0:100]"
   ]
  },
  {
   "cell_type": "code",
   "execution_count": 20,
   "id": "c9dd2ce8",
   "metadata": {},
   "outputs": [],
   "source": [
    "p_complete = []\n",
    "for p in root.iter('{http://www.tei-c.org/ns/1.0}p'): \n",
    "    p_complete.append(p.text)"
   ]
  },
  {
   "cell_type": "code",
   "execution_count": 21,
   "id": "ca476b72",
   "metadata": {},
   "outputs": [],
   "source": [
    "import pandas as pd\n",
    "data = pd.read_csv('/Users/xiaotianyu/Library/Mobile Documents/com~apple~CloudDocs/Softcite  - Sheet1-3.csv', header=None)"
   ]
  },
  {
   "cell_type": "code",
   "execution_count": 22,
   "id": "e3d51418",
   "metadata": {},
   "outputs": [
    {
     "data": {
      "text/html": [
       "<div>\n",
       "<style scoped>\n",
       "    .dataframe tbody tr th:only-of-type {\n",
       "        vertical-align: middle;\n",
       "    }\n",
       "\n",
       "    .dataframe tbody tr th {\n",
       "        vertical-align: top;\n",
       "    }\n",
       "\n",
       "    .dataframe thead th {\n",
       "        text-align: right;\n",
       "    }\n",
       "</style>\n",
       "<table border=\"1\" class=\"dataframe\">\n",
       "  <thead>\n",
       "    <tr style=\"text-align: right;\">\n",
       "      <th></th>\n",
       "      <th>0</th>\n",
       "      <th>1</th>\n",
       "      <th>2</th>\n",
       "      <th>3</th>\n",
       "      <th>4</th>\n",
       "      <th>5</th>\n",
       "    </tr>\n",
       "  </thead>\n",
       "  <tbody>\n",
       "    <tr>\n",
       "      <th>0</th>\n",
       "      <td>Article Name</td>\n",
       "      <td>Software Mention in Softcite Dataset</td>\n",
       "      <td>Frequency</td>\n",
       "      <td>Software Mention in Article</td>\n",
       "      <td>Frequency</td>\n",
       "      <td>Note</td>\n",
       "    </tr>\n",
       "    <tr>\n",
       "      <th>1</th>\n",
       "      <td>A comparative study of collimation in bedside ...</td>\n",
       "      <td>Excel</td>\n",
       "      <td>1</td>\n",
       "      <td>Excel</td>\n",
       "      <td>1</td>\n",
       "      <td>NaN</td>\n",
       "    </tr>\n",
       "    <tr>\n",
       "      <th>2</th>\n",
       "      <td>A comparative study of collimation in bedside ...</td>\n",
       "      <td>SAS 9.1</td>\n",
       "      <td>1</td>\n",
       "      <td>SAS 9.1</td>\n",
       "      <td>1</td>\n",
       "      <td>NaN</td>\n",
       "    </tr>\n",
       "    <tr>\n",
       "      <th>3</th>\n",
       "      <td>NaHCO3 enhances the antitumor activities of cy...</td>\n",
       "      <td>SPSS 13.0</td>\n",
       "      <td>1</td>\n",
       "      <td>WinMDI 2.9</td>\n",
       "      <td>1</td>\n",
       "      <td>NaN</td>\n",
       "    </tr>\n",
       "    <tr>\n",
       "      <th>4</th>\n",
       "      <td>NaHCO3 enhances the antitumor activities of cy...</td>\n",
       "      <td>NaN</td>\n",
       "      <td>NaN</td>\n",
       "      <td>SPSS 13.0</td>\n",
       "      <td>1</td>\n",
       "      <td>NaN</td>\n",
       "    </tr>\n",
       "    <tr>\n",
       "      <th>5</th>\n",
       "      <td>Deep brain stimulation of globus pallidus inte...</td>\n",
       "      <td>SPSS 11.0</td>\n",
       "      <td>1</td>\n",
       "      <td>SPSS 11.0</td>\n",
       "      <td>2</td>\n",
       "      <td>NaN</td>\n",
       "    </tr>\n",
       "    <tr>\n",
       "      <th>6</th>\n",
       "      <td>Methylation Levels of LINE-1 As a Useful Marke...</td>\n",
       "      <td>GraphPad Prism 5.0</td>\n",
       "      <td>1</td>\n",
       "      <td>GraphPad Prism 5.0</td>\n",
       "      <td>1</td>\n",
       "      <td>NaN</td>\n",
       "    </tr>\n",
       "    <tr>\n",
       "      <th>7</th>\n",
       "      <td>Embedding online patient record access in UK p...</td>\n",
       "      <td>HealthSpace</td>\n",
       "      <td>1</td>\n",
       "      <td>HealthSpace</td>\n",
       "      <td>3</td>\n",
       "      <td>Including Reference Material</td>\n",
       "    </tr>\n",
       "    <tr>\n",
       "      <th>8</th>\n",
       "      <td>A robust cell cycle control mechanism limits E...</td>\n",
       "      <td>JCB DataViewer</td>\n",
       "      <td>2</td>\n",
       "      <td>JCB DataViewer</td>\n",
       "      <td>3</td>\n",
       "      <td>Including Supplemental material</td>\n",
       "    </tr>\n",
       "    <tr>\n",
       "      <th>9</th>\n",
       "      <td>Molecular Detection of &amp;lt;i&amp;gt;Giardia intest...</td>\n",
       "      <td>BLASTN</td>\n",
       "      <td>1</td>\n",
       "      <td>BLASTN</td>\n",
       "      <td>3</td>\n",
       "      <td>Computer algortihm</td>\n",
       "    </tr>\n",
       "    <tr>\n",
       "      <th>10</th>\n",
       "      <td>Molecular Detection of &amp;lt;i&amp;gt;Giardia intest...</td>\n",
       "      <td>CLUSTAL W2</td>\n",
       "      <td>1</td>\n",
       "      <td>CLUSTAL W2</td>\n",
       "      <td>3</td>\n",
       "      <td>NaN</td>\n",
       "    </tr>\n",
       "    <tr>\n",
       "      <th>11</th>\n",
       "      <td>The Effects of an Orientation Program on Quali...</td>\n",
       "      <td>SPSS 13.0</td>\n",
       "      <td>1</td>\n",
       "      <td>SPSS 13.0</td>\n",
       "      <td>2</td>\n",
       "      <td>NaN</td>\n",
       "    </tr>\n",
       "    <tr>\n",
       "      <th>12</th>\n",
       "      <td>Making your database available through Wikiped...</td>\n",
       "      <td>WikiTrust</td>\n",
       "      <td>1</td>\n",
       "      <td>WikiTrust</td>\n",
       "      <td>1</td>\n",
       "      <td>NaN</td>\n",
       "    </tr>\n",
       "    <tr>\n",
       "      <th>13</th>\n",
       "      <td>Making your database available through Wikiped...</td>\n",
       "      <td>Firefox</td>\n",
       "      <td>1</td>\n",
       "      <td>Firefox</td>\n",
       "      <td>1</td>\n",
       "      <td>NaN</td>\n",
       "    </tr>\n",
       "    <tr>\n",
       "      <th>14</th>\n",
       "      <td>Dairy Product Intake Is Inversely Associated w...</td>\n",
       "      <td>Stata 11.0</td>\n",
       "      <td>1</td>\n",
       "      <td>Stata 11.0</td>\n",
       "      <td>1</td>\n",
       "      <td>NaN</td>\n",
       "    </tr>\n",
       "  </tbody>\n",
       "</table>\n",
       "</div>"
      ],
      "text/plain": [
       "                                                    0  \\\n",
       "0                                        Article Name   \n",
       "1   A comparative study of collimation in bedside ...   \n",
       "2   A comparative study of collimation in bedside ...   \n",
       "3   NaHCO3 enhances the antitumor activities of cy...   \n",
       "4   NaHCO3 enhances the antitumor activities of cy...   \n",
       "5   Deep brain stimulation of globus pallidus inte...   \n",
       "6   Methylation Levels of LINE-1 As a Useful Marke...   \n",
       "7   Embedding online patient record access in UK p...   \n",
       "8   A robust cell cycle control mechanism limits E...   \n",
       "9   Molecular Detection of &lt;i&gt;Giardia intest...   \n",
       "10  Molecular Detection of &lt;i&gt;Giardia intest...   \n",
       "11  The Effects of an Orientation Program on Quali...   \n",
       "12  Making your database available through Wikiped...   \n",
       "13  Making your database available through Wikiped...   \n",
       "14  Dairy Product Intake Is Inversely Associated w...   \n",
       "\n",
       "                                        1           2  \\\n",
       "0   Software Mention in Softcite Dataset   Frequency    \n",
       "1                                   Excel           1   \n",
       "2                                 SAS 9.1           1   \n",
       "3                               SPSS 13.0           1   \n",
       "4                                     NaN         NaN   \n",
       "5                               SPSS 11.0           1   \n",
       "6                      GraphPad Prism 5.0           1   \n",
       "7                             HealthSpace           1   \n",
       "8                          JCB DataViewer           2   \n",
       "9                                  BLASTN           1   \n",
       "10                             CLUSTAL W2           1   \n",
       "11                              SPSS 13.0           1   \n",
       "12                              WikiTrust           1   \n",
       "13                                Firefox           1   \n",
       "14                             Stata 11.0           1   \n",
       "\n",
       "                              3          4                                 5  \n",
       "0   Software Mention in Article  Frequency                              Note  \n",
       "1                        Excel           1                               NaN  \n",
       "2                       SAS 9.1          1                               NaN  \n",
       "3                    WinMDI 2.9          1                               NaN  \n",
       "4                     SPSS 13.0          1                               NaN  \n",
       "5                     SPSS 11.0          2                               NaN  \n",
       "6            GraphPad Prism 5.0          1                               NaN  \n",
       "7                   HealthSpace          3     Including Reference Material   \n",
       "8                JCB DataViewer          3  Including Supplemental material   \n",
       "9                        BLASTN          3                Computer algortihm  \n",
       "10                   CLUSTAL W2          3                               NaN  \n",
       "11                    SPSS 13.0          2                               NaN  \n",
       "12                    WikiTrust          1                               NaN  \n",
       "13                      Firefox          1                               NaN  \n",
       "14                   Stata 11.0          1                               NaN  "
      ]
     },
     "execution_count": 22,
     "metadata": {},
     "output_type": "execute_result"
    }
   ],
   "source": [
    "data"
   ]
  }
 ],
 "metadata": {
  "kernelspec": {
   "display_name": "Python 3",
   "language": "python",
   "name": "python3"
  },
  "language_info": {
   "codemirror_mode": {
    "name": "ipython",
    "version": 3
   },
   "file_extension": ".py",
   "mimetype": "text/x-python",
   "name": "python",
   "nbconvert_exporter": "python",
   "pygments_lexer": "ipython3",
   "version": "3.8.8"
  }
 },
 "nbformat": 4,
 "nbformat_minor": 5
}
